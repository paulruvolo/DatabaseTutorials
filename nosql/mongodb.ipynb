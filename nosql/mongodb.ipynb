{
 "metadata": {
  "name": ""
 },
 "nbformat": 3,
 "nbformat_minor": 0,
 "worksheets": [
  {
   "cells": [
    {
     "cell_type": "markdown",
     "metadata": {},
     "source": [
      "## MongoDB Basics\n",
      "\n",
      "This iPython notebook will walk you through some basics of using mongodb.\n",
      "Note: this iPython notebook is based heavily on a [Gentle Introduction to MongoDB using Pymongo](http://altons.github.io/python/2013/01/21/gentle-introduction-to-mongodb-using-pymongo/)\n",
      "\n",
      "Pre-requisites:\n",
      "1.  You must have mongodb installed (\\$ sudo apt-get install mongodb mongodb-clients mongodb-dev mongodb-server)\n",
      "2.  You must have pymongo installed (\\$ sudo pip install pymongo)\n",
      "\n",
      "To get started, make sure you can connect to your local mongo database using pymongo."
     ]
    },
    {
     "cell_type": "code",
     "collapsed": false,
     "input": [
      "import pymongo\n",
      "\n",
      "# Connection to Mongo DB\n",
      "try:\n",
      "    conn = pymongo.MongoClient()\n",
      "    print \"Connected successfully!!!\"\n",
      "except pymongo.errors.ConnectionFailure, e:\n",
      "   print \"Could not connect to MongoDB: %s\" % e \n",
      "conn"
     ],
     "language": "python",
     "metadata": {},
     "outputs": []
    },
    {
     "cell_type": "markdown",
     "metadata": {},
     "source": [
      "To create a new database all you need to do is use Python's dot notation.  This is one nice thing about mongodb, generally it uses an object-oriented syntax."
     ]
    },
    {
     "cell_type": "code",
     "collapsed": false,
     "input": [
      "db.drop_database('mydb')\n",
      "db = conn.mydb\n",
      "db"
     ],
     "language": "python",
     "metadata": {},
     "outputs": [
      {
       "ename": "TypeError",
       "evalue": "'Collection' object is not callable. If you meant to call the 'drop_database' method on a 'Database' object it is failing because no such method exists.",
       "output_type": "pyerr",
       "traceback": [
        "\u001b[0;31m---------------------------------------------------------------------------\u001b[0m\n\u001b[0;31mTypeError\u001b[0m                                 Traceback (most recent call last)",
        "\u001b[0;32m<ipython-input-80-319b5f2b941a>\u001b[0m in \u001b[0;36m<module>\u001b[0;34m()\u001b[0m\n\u001b[0;32m----> 1\u001b[0;31m \u001b[0mdb\u001b[0m\u001b[0;34m.\u001b[0m\u001b[0mdrop_database\u001b[0m\u001b[0;34m(\u001b[0m\u001b[0;34m'mydb'\u001b[0m\u001b[0;34m)\u001b[0m\u001b[0;34m\u001b[0m\u001b[0m\n\u001b[0m\u001b[1;32m      2\u001b[0m \u001b[0mdb\u001b[0m \u001b[0;34m=\u001b[0m \u001b[0mconn\u001b[0m\u001b[0;34m.\u001b[0m\u001b[0mmydb\u001b[0m\u001b[0;34m\u001b[0m\u001b[0m\n\u001b[1;32m      3\u001b[0m \u001b[0mdb\u001b[0m\u001b[0;34m\u001b[0m\u001b[0m\n",
        "\u001b[0;32m/usr/lib/python2.7/dist-packages/pymongo/collection.pyc\u001b[0m in \u001b[0;36m__call__\u001b[0;34m(self, *args, **kwargs)\u001b[0m\n\u001b[1;32m   1483\u001b[0m                             \u001b[0;34m\"object it is failing because no such method \"\u001b[0m\u001b[0;34m\u001b[0m\u001b[0m\n\u001b[1;32m   1484\u001b[0m                             \u001b[0;34m\"exists.\"\u001b[0m \u001b[0;34m%\u001b[0m\u001b[0;34m\u001b[0m\u001b[0m\n\u001b[0;32m-> 1485\u001b[0;31m                             self.__name)\n\u001b[0m\u001b[1;32m   1486\u001b[0m         raise TypeError(\"'Collection' object is not callable. If you meant to \"\n\u001b[1;32m   1487\u001b[0m                         \u001b[0;34m\"call the '%s' method on a 'Collection' object it is \"\u001b[0m\u001b[0;34m\u001b[0m\u001b[0m\n",
        "\u001b[0;31mTypeError\u001b[0m: 'Collection' object is not callable. If you meant to call the 'drop_database' method on a 'Database' object it is failing because no such method exists."
       ]
      }
     ],
     "prompt_number": 80
    },
    {
     "cell_type": "markdown",
     "metadata": {},
     "source": [
      "One interesting thing is that the database will not actually be created inside Mongodb until it contains at least one collection.  To see this execute the next command and observe that the database that you inserted above does NOT show up."
     ]
    },
    {
     "cell_type": "code",
     "collapsed": false,
     "input": [
      "conn.database_names()"
     ],
     "language": "python",
     "metadata": {},
     "outputs": [
      {
       "metadata": {},
       "output_type": "pyout",
       "prompt_number": 78,
       "text": [
        "[u'test', u'local', u'mydb', u'mydb2', u'admin']"
       ]
      }
     ],
     "prompt_number": 78
    },
    {
     "cell_type": "markdown",
     "metadata": {},
     "source": [
      "A database is used to store documents.  Documents are organized into collections which can roughly be though of as corresponding to a table in a relational database.  Similarly to when we created our database, we simply use dot notation to create a new collection."
     ]
    },
    {
     "cell_type": "code",
     "collapsed": false,
     "input": [
      "collection = db.my_collection\n",
      "collection"
     ],
     "language": "python",
     "metadata": {},
     "outputs": []
    },
    {
     "cell_type": "markdown",
     "metadata": {},
     "source": [
      "Analagously to databases, a collection will not be created until it contains at least one document."
     ]
    },
    {
     "cell_type": "code",
     "collapsed": false,
     "input": [
      "db.collection_names()"
     ],
     "language": "python",
     "metadata": {},
     "outputs": []
    },
    {
     "cell_type": "markdown",
     "metadata": {},
     "source": [
      "Next, we create a simple document and add it to the collection.  The document must be a mutable mapping type which in Python means a dictionary.  The values can be any primitive Python datatype as well as lists and tuples (and possibly more?)."
     ]
    },
    {
     "cell_type": "code",
     "collapsed": false,
     "input": [
      "doc = {\"first_name\":\"Paul\",\"last_name\":\"Ruvolo\",\"twitter\":\"@paulruvolo\"}\n",
      "collection.insert(doc)"
     ],
     "language": "python",
     "metadata": {},
     "outputs": [
      {
       "metadata": {},
       "output_type": "pyout",
       "prompt_number": 76,
       "text": [
        "ObjectId('553a55381d41c84b9e6269d5')"
       ]
      }
     ],
     "prompt_number": 76
    },
    {
     "cell_type": "markdown",
     "metadata": {},
     "source": [
      "Trying to insert arrays or other datatypes will not work."
     ]
    },
    {
     "cell_type": "code",
     "collapsed": false,
     "input": [
      "doc2 = [[1,2]]\n",
      "collection.insert(doc2)"
     ],
     "language": "python",
     "metadata": {},
     "outputs": []
    },
    {
     "cell_type": "code",
     "collapsed": false,
     "input": [
      "print conn.database_names()\n",
      "print db.collection_names()"
     ],
     "language": "python",
     "metadata": {},
     "outputs": []
    },
    {
     "cell_type": "markdown",
     "metadata": {},
     "source": [
      "Next, let's revisit the academy award data we looked at last time."
     ]
    },
    {
     "cell_type": "code",
     "collapsed": false,
     "input": [
      "from academy_awards import get_nominations\n",
      "\n",
      "nominations = get_nominations()\n",
      "print nominations[0]"
     ],
     "language": "python",
     "metadata": {},
     "outputs": []
    },
    {
     "cell_type": "markdown",
     "metadata": {},
     "source": [
      "See if you can create a collection and then insert all of the nominations as documents."
     ]
    },
    {
     "cell_type": "code",
     "collapsed": false,
     "input": [
      "## TODO"
     ],
     "language": "python",
     "metadata": {},
     "outputs": []
    },
    {
     "cell_type": "markdown",
     "metadata": {},
     "source": [
      "A database is no good unless you can get the data out of it.  Here are some queries you could execute agains the academy award database."
     ]
    },
    {
     "cell_type": "code",
     "collapsed": false,
     "input": [
      "print academy_award_nominations.find({'Won?': 'YES'}).count()\n",
      "print academy_award_nominations.find({'Won?': 'NO'}).count()\n",
      "\n",
      "for nom in academy_award_nominations.find({'Won?': 'NO', 'Year': '1995'}):\n",
      "    print nom"
     ],
     "language": "python",
     "metadata": {},
     "outputs": []
    },
    {
     "cell_type": "markdown",
     "metadata": {},
     "source": [
      "MongoDB has a rich language for queries.  Check [this](http://docs.mongodb.org/manual/reference/method/db.collection.find/) link out for full details."
     ]
    },
    {
     "cell_type": "markdown",
     "metadata": {},
     "source": [
      "### Map Reduce and MongoDB\n",
      "\n",
      "One really cool feature of MongoDB is that it has support for map / reduce.  For MongoDB the map and reduce functions must be written in javascript.  I have modified the example from here [this tutorial](http://aimotion.blogspot.com/2010/08/mapreduce-with-mongodb-and-python.html) so that it can be run in an iPython notebook."
     ]
    },
    {
     "cell_type": "code",
     "collapsed": false,
     "input": [
      "from bson.code import Code\n",
      "\n",
      "db = conn.test\n",
      "\n",
      "#Remove any existing data\n",
      "db.texts.remove()\n",
      "\n",
      "#Insert the data \n",
      "lines = open('2009-Obama.txt').readlines()\n",
      "[db.texts.insert({'text': line}) for line in lines]\n",
      "\n",
      "#Load map and reduce functions\n",
      "map = Code(\"\"\"\n",
      "                function wordMap(){\n",
      "                        //find words in the document text\n",
      "                        var words = this.text.match(/\\w+/g);\n",
      "                \n",
      "                        if (words == null){\n",
      "                                return;\n",
      "                        }\n",
      "                        for (var i = 0; i < words.length; i++){\n",
      "                                //emit every word, with count of one\n",
      "                                emit(words[i], {count: 1});\n",
      "                        }\n",
      "                }\n",
      "           \"\"\")\n",
      "\n",
      "reduce = Code(\"\"\"\n",
      "                function wordReduce(key,values){\n",
      "                        var total = 0;\n",
      "                        for (var i = 0; i < values.length; i++){\n",
      "                                total += values[i].count;\n",
      "                        }\n",
      "                        return {count: total};\n",
      "                }\n",
      "              \"\"\")\n",
      "\n",
      "#Run the map-reduce query\n",
      "results = db.texts.map_reduce(map,reduce,\"word_counts\")\n",
      "\n",
      "#Print the results\n",
      "for result in results.find():\n",
      "        print result['_id'] , result['value']['count']"
     ],
     "language": "python",
     "metadata": {},
     "outputs": []
    },
    {
     "cell_type": "markdown",
     "metadata": {},
     "source": [
      "The great thing about map / reduce is that it runs on the server!"
     ]
    },
    {
     "cell_type": "markdown",
     "metadata": {},
     "source": [
      "If you want to try some more examples, try the following example from \"Gentle Introduction to MongoDB Using PyMongo\".  Note: you need to install tweepy (you can do so using pip) and fill out the four fields related to the twitter API based on your personal account info."
     ]
    },
    {
     "cell_type": "code",
     "collapsed": false,
     "input": [
      "import tweepy\n",
      "lookup ='BigData'\n",
      "\n",
      "db.drop_collection(\"posts\")\n",
      "posts = db.posts\n",
      "\n",
      "consumer_key = \"\" # fill this in\n",
      "consumer_secret = \"\" # fill this in\n",
      "access_token = \"\" # fill this in\n",
      "access_token_secret = \"\" # fill this in\n",
      "\n",
      "auth = tweepy.OAuthHandler(consumer_key, consumer_secret)\n",
      "auth.set_access_token(access_token, access_token_secret)\n",
      "\n",
      "api = tweepy.API(auth)\n",
      "\n",
      "tweets = api.search('BigData', count=100)\n",
      "print len(tweets)\n",
      "# loop through search and insert dictionary into mongoDB\n",
      "for tweet in tweets:\n",
      "    # Empty dictionary for storing tweet related data\n",
      "    data ={}\n",
      "    data['geo'] = tweet.geo\n",
      "    data['text'] = tweet.text\n",
      "    data['screen_name'] = tweet.user.screen_name\n",
      "    data['retweet_count'] = tweet.retweet_count\n",
      "\n",
      "    # Insert process\n",
      "    posts.insert(data)"
     ],
     "language": "python",
     "metadata": {},
     "outputs": []
    },
    {
     "cell_type": "code",
     "collapsed": false,
     "input": [
      "data"
     ],
     "language": "python",
     "metadata": {},
     "outputs": []
    },
    {
     "cell_type": "code",
     "collapsed": false,
     "input": [
      "posts.find_one()"
     ],
     "language": "python",
     "metadata": {},
     "outputs": []
    },
    {
     "cell_type": "code",
     "collapsed": false,
     "input": [
      "print posts.count()\n",
      "print posts.find({\"retweet_count\": 2}).count()\n",
      "print posts.find({\"retweet_count\": {'$gte':2}}).count()\n",
      "print posts.find({\"retweet_count\": 0}).count()\n",
      "print posts.find({\"retweet_count\": 1}).count()"
     ],
     "language": "python",
     "metadata": {},
     "outputs": []
    }
   ],
   "metadata": {}
  }
 ]
}