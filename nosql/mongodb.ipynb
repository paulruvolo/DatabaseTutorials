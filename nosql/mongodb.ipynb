{
 "metadata": {
  "name": ""
 },
 "nbformat": 3,
 "nbformat_minor": 0,
 "worksheets": [
  {
   "cells": [
    {
     "cell_type": "code",
     "collapsed": false,
     "input": [
      "import pymongo\n",
      "\n",
      "# Connection to Mongo DB\n",
      "try:\n",
      "    conn = pymongo.MongoClient()\n",
      "    print \"Connected successfully!!!\"\n",
      "except pymongo.errors.ConnectionFailure, e:\n",
      "   print \"Could not connect to MongoDB: %s\" % e \n",
      "conn"
     ],
     "language": "python",
     "metadata": {},
     "outputs": [
      {
       "output_type": "stream",
       "stream": "stdout",
       "text": [
        "Connected successfully!!!\n"
       ]
      },
      {
       "metadata": {},
       "output_type": "pyout",
       "prompt_number": 12,
       "text": [
        "MongoClient('localhost', 27017)"
       ]
      }
     ],
     "prompt_number": 12
    },
    {
     "cell_type": "code",
     "collapsed": false,
     "input": [
      "db = conn.mydb\n",
      "db"
     ],
     "language": "python",
     "metadata": {},
     "outputs": [
      {
       "metadata": {},
       "output_type": "pyout",
       "prompt_number": 13,
       "text": [
        "Database(MongoClient('localhost', 27017), u'mydb')"
       ]
      }
     ],
     "prompt_number": 13
    },
    {
     "cell_type": "code",
     "collapsed": false,
     "input": [
      "collection = db.my_collection\n",
      "collection"
     ],
     "language": "python",
     "metadata": {},
     "outputs": [
      {
       "metadata": {},
       "output_type": "pyout",
       "prompt_number": 15,
       "text": [
        "Collection(Database(MongoClient('localhost', 27017), u'mydb'), u'my_collection')"
       ]
      }
     ],
     "prompt_number": 15
    },
    {
     "cell_type": "code",
     "collapsed": false,
     "input": [
      "doc = {\"name\":\"Alberto\",\"surname\":\"Negron\",\"twitter\":\"@Altons\"}\n",
      "collection.insert(doc)"
     ],
     "language": "python",
     "metadata": {},
     "outputs": [
      {
       "metadata": {},
       "output_type": "pyout",
       "prompt_number": 17,
       "text": [
        "ObjectId('55383e5c1d41c85b9325cd4d')"
       ]
      }
     ],
     "prompt_number": 17
    },
    {
     "cell_type": "code",
     "collapsed": false,
     "input": [
      "print conn.database_names()\n",
      "print db.collection_names()"
     ],
     "language": "python",
     "metadata": {},
     "outputs": [
      {
       "output_type": "stream",
       "stream": "stdout",
       "text": [
        "[u'test', u'local', u'mydb']\n",
        "[u'system.indexes', u'testData', u'my_collection']\n"
       ]
      }
     ],
     "prompt_number": 20
    },
    {
     "cell_type": "code",
     "collapsed": false,
     "input": [
      "import tweepy\n",
      "lookup ='BigData'\n",
      "\n",
      "db.drop_collection(\"post\")\n",
      "posts = db.posts\n",
      "\n",
      "auth = tweepy.OAuthHandler('O9u8PdkzfTbrXUA0Ix7JB8g5J', 'FnEAyGBLwI6E722MMcbtad3cj1CluE9bo1IgrpDkWUlfktPcQc')\n",
      "auth.set_access_token('1681706844-dz80o9v6YS5vreSeAoLWg9px8abD5DPtSzbZELQ', 'x2kryySYGUv5tBUhdO8AlhP09aIJp9HG5fjVDA4jxkcPn')\n",
      "\n",
      "api = tweepy.API(auth)\n",
      "\n",
      "tweets = api.search('BigData', count=100)\n",
      "print len(tweets)\n",
      "# loop through search and insert dictionary into mongoDB\n",
      "for tweet in tweets:\n",
      "    # Empty dictionary for storing tweet related data\n",
      "    data ={}\n",
      "    data['geo'] = tweet.geo\n",
      "    data['text'] = tweet.text\n",
      "    data['screen_name'] = tweet.user.screen_name\n",
      "    data['retweet_count'] = tweet.retweet_count\n",
      "\n",
      "    # Insert process\n",
      "    posts.insert(data)"
     ],
     "language": "python",
     "metadata": {},
     "outputs": [
      {
       "output_type": "stream",
       "stream": "stdout",
       "text": [
        "100\n"
       ]
      }
     ],
     "prompt_number": 63
    },
    {
     "cell_type": "code",
     "collapsed": false,
     "input": [
      "data"
     ],
     "language": "python",
     "metadata": {},
     "outputs": [
      {
       "metadata": {},
       "output_type": "pyout",
       "prompt_number": 64,
       "text": [
        "{'_id': ObjectId('553863741d41c85b9325d0cb'),\n",
        " 'geo': None,\n",
        " 'retweet_count': 2,\n",
        " 'screen_name': u'NoSQLDigest',\n",
        " 'text': u'RT @4TBLO: Hashing Out The Almighty Hashtag [infographic] | http://t.co/zblkfwOzo5  #BigData'}"
       ]
      }
     ],
     "prompt_number": 64
    },
    {
     "cell_type": "code",
     "collapsed": false,
     "input": [
      "posts.find_one()"
     ],
     "language": "python",
     "metadata": {},
     "outputs": [
      {
       "metadata": {},
       "output_type": "pyout",
       "prompt_number": 66,
       "text": [
        "{u'_id': ObjectId('553841651d41c85b9325cd4e'),\n",
        " u'geo': None,\n",
        " u'text': u'RT @MassBigData: .@EnerNOC\\u2019s Don Jenkins talks #bigdata &amp; energy prediction w/#datascience students on Tech Trek Worcester http://t.co/X6L3\\u2026'}"
       ]
      }
     ],
     "prompt_number": 66
    },
    {
     "cell_type": "code",
     "collapsed": false,
     "input": [
      "print posts.count()\n",
      "print posts.find({\"retweet_count\": 2}).count()\n",
      "print posts.find({\"retweet_count\": {'$gte':2}}).count()\n",
      "print posts.find({\"retweet_count\": 0}).count()\n",
      "print posts.find({\"retweet_count\": 1}).count()"
     ],
     "language": "python",
     "metadata": {},
     "outputs": [
      {
       "output_type": "stream",
       "stream": "stdout",
       "text": [
        "890\n",
        "46\n",
        "150\n",
        "16\n",
        "34\n",
        "0\n"
       ]
      }
     ],
     "prompt_number": 76
    },
    {
     "cell_type": "code",
     "collapsed": false,
     "input": [],
     "language": "python",
     "metadata": {},
     "outputs": []
    }
   ],
   "metadata": {}
  }
 ]
}